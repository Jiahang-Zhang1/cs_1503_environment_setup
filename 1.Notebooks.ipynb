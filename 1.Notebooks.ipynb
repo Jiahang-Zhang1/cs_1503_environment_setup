{
 "cells": [
  {
   "cell_type": "markdown",
   "metadata": {},
   "source": [
    "# First notebook"
   ]
  },
  {
   "cell_type": "markdown",
   "metadata": {},
   "source": [
    "1. Name: Jiahang Zhang\n",
    "2. Date: 01/20/2024"
   ]
  },
  {
   "cell_type": "markdown",
   "metadata": {},
   "source": [
    "## Markdown Exercises\n",
    "### I really interested in Machine learning. Because It offers powerful tools for analyzing large datasets, making predictions, and automating decision-making processes. This technology has significant implications in various sectors, including healthcare, finance, transportation, and entertainment. The ability to harness data to improve efficiencies, understand complex patterns, and create innovative solutions is a key driver of interest in machine learning.\n",
    "\n",
    "*Here are four things you might want to learn from a machine learning course:*\n",
    "\n",
    "1. Fundamentals of Machine Learning: Understanding the basic concepts, algorithms, and mathematics behind machine learning.\n",
    "2. Data Handling and Processing: Learning how to effectively collect, clean, and manipulate data for use in machine learning models.\n",
    "3. Model Development and Evaluation: Gaining skills in building, training, and evaluating various machine learning models to solve real-world problems.\n",
    "4. Deep Learning Techniques: Exploring advanced topics like neural networks and deep learning algorithms."
   ]
  },
  {
   "cell_type": "markdown",
   "metadata": {},
   "source": [
    "![alt text](https://media3.giphy.com/media/v1.Y2lkPTc5MGI3NjExd2thMHZ5anA4aDY0ODNnNmQwMDJucjB3bGhmandmcXJpODhidXpjdSZlcD12MV9pbnRlcm5hbF9naWZfYnlfaWQmY3Q9Zw/PCvkgunX9ZbEEyfTQH/giphy.gif)"
   ]
  },
  {
   "cell_type": "markdown",
   "metadata": {},
   "source": [
    "## Jupyter Notebook Exercises"
   ]
  },
  {
   "cell_type": "code",
   "execution_count": 1,
   "metadata": {},
   "outputs": [
    {
     "name": "stdout",
     "output_type": "stream",
     "text": [
      "What is your name? Jiahang\n",
      "Hello Jiahang !\n"
     ]
    }
   ],
   "source": [
    "name = input(prompt=\"What is your name? \")\n",
    "print(\"Hello\", name, \"!\")"
   ]
  },
  {
   "cell_type": "code",
   "execution_count": null,
   "metadata": {},
   "outputs": [],
   "source": []
  }
 ],
 "metadata": {
  "kernelspec": {
   "display_name": "Python 3",
   "language": "python",
   "name": "python3"
  },
  "language_info": {
   "codemirror_mode": {
    "name": "ipython",
    "version": 3
   },
   "file_extension": ".py",
   "mimetype": "text/x-python",
   "name": "python",
   "nbconvert_exporter": "python",
   "pygments_lexer": "ipython3",
   "version": "3.8.3"
  }
 },
 "nbformat": 4,
 "nbformat_minor": 4
}
